{
 "cells": [
  {
   "cell_type": "markdown",
   "metadata": {},
   "source": [
    "## 2019.11.25 "
   ]
  },
  {
   "cell_type": "markdown",
   "metadata": {},
   "source": [
    "### 调查怎么才能成为data scientist，需要哪些能力，怎么才能成为顶尖\n"
   ]
  },
  {
   "cell_type": "markdown",
   "metadata": {},
   "source": [
    "1. 有一个不错的选择，就是依照现在正在进行的GitHub课程实践下来，总体的要求是把所有的知识点都搞懂了，从现在开始，要做笔记，笔记的内容应该包括：\n",
    "自己的理解，与什么可以联系，对自己的用处。可以选择的方式为先使用笔记录在本子上，然后在转移到电脑上。不要有太大的压力，要记住让自己专注，享受\n",
    "这个过程。不要浪费自己的时间，让自己每次的所作所为都能对得起自己，都能有所收获。"
   ]
  },
  {
   "cell_type": "markdown",
   "metadata": {},
   "source": [
    "2. [Quora上如何成为data scientist](https://www.quora.com/How-do-I-become-a-data-scientist-without-a-PhD/answer/Thia-Kai-Xin)\n",
    "与1相似，都是建议在网上去学一些课程，但是强调持续性，每天必须坚持做一定的练习。从现在开始，我每天都会做，都会总结，都会练习。\n",
    "\n",
    "\n"
   ]
  },
  {
   "cell_type": "markdown",
   "metadata": {},
   "source": [
    "3. 最后我决定坚持1的做法，增加一些项目，对自己的考核吧算是。对于这次的目标考核时间是1个月，需要自己完成的目标为，前两个月的内容；包括一些kaggle\n",
    "上的尝试"
   ]
  },
  {
   "cell_type": "markdown",
   "metadata": {},
   "source": [
    "4. 附加：在周末的时候，看看并行相关的，用一下the coding train里的内容，比如经济相关的，这个和应用是相关的。还有一个是sentdex  "
   ]
  }
 ],
 "metadata": {
  "kernelspec": {
   "display_name": "Python 3",
   "language": "python",
   "name": "python3"
  },
  "language_info": {
   "codemirror_mode": {
    "name": "ipython",
    "version": 3
   },
   "file_extension": ".py",
   "mimetype": "text/x-python",
   "name": "python",
   "nbconvert_exporter": "python",
   "pygments_lexer": "ipython3",
   "version": "3.7.3"
  }
 },
 "nbformat": 4,
 "nbformat_minor": 2
}
