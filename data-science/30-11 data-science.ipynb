{
 "cells": [
  {
   "cell_type": "markdown",
   "metadata": {},
   "source": [
    "怎么解 矩阵方程，类似于 $X^TX\\theta=X^Ty$"
   ]
  },
  {
   "cell_type": "markdown",
   "metadata": {},
   "source": [
    "有两种方式，都是基于数学的，对其内核理解的不深，基本的方法也都是使用scipy已有的函数解决的，自己的工作就是把他们组合在一块。\n",
    "\n",
    "这就体现了python工具包的作用了，如果知道数学思想，那么就可以利用工具包里的工具实现自己的思想，所以最重要的还是要有想法，知道自己想要什么。这个太有用了"
   ]
  },
  {
   "cell_type": "markdown",
   "metadata": {},
   "source": [
    "如果知道自己想解决什么问题，该怎么解决，那么实现只是一些技术上的手段，肯定是没有问题的。"
   ]
  },
  {
   "cell_type": "code",
   "execution_count": null,
   "metadata": {},
   "outputs": [],
   "source": []
  }
 ],
 "metadata": {
  "kernelspec": {
   "display_name": "Python 3",
   "language": "python",
   "name": "python3"
  },
  "language_info": {
   "codemirror_mode": {
    "name": "ipython",
    "version": 3
   },
   "file_extension": ".py",
   "mimetype": "text/x-python",
   "name": "python",
   "nbconvert_exporter": "python",
   "pygments_lexer": "ipython3",
   "version": "3.7.3"
  }
 },
 "nbformat": 4,
 "nbformat_minor": 2
}
