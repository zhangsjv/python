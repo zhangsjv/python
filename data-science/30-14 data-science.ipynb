{
 "cells": [
  {
   "cell_type": "markdown",
   "metadata": {},
   "source": [
    "现在的基础不牢靠，通过做项目很明显的看出来水平不够，所以基础一定要夯实了，这个从阅读pandas的groupby开始，看看他可以做什么，而且要真正的熟练\n",
    "否则做项目还是不行。要像视频中的那样，要对程序，包有基本的了解，知道该怎么用，知道什么时候用。\n",
    "\n",
    "不做项目不知道啊，所以不要骗自己了，一定要把自己学过的东西利用起来，这样才能提升自己，加油"
   ]
  },
  {
   "cell_type": "code",
   "execution_count": null,
   "metadata": {},
   "outputs": [],
   "source": []
  }
 ],
 "metadata": {
  "kernelspec": {
   "display_name": "Python 3",
   "language": "python",
   "name": "python3"
  },
  "language_info": {
   "codemirror_mode": {
    "name": "ipython",
    "version": 3
   },
   "file_extension": ".py",
   "mimetype": "text/x-python",
   "name": "python",
   "nbconvert_exporter": "python",
   "pygments_lexer": "ipython3",
   "version": "3.7.3"
  }
 },
 "nbformat": 4,
 "nbformat_minor": 2
}
