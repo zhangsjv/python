{
 "cells": [
  {
   "cell_type": "markdown",
   "metadata": {},
   "source": [
    "pd.groupby的参数有一个as_index，这个参数为False的时候，groupby使用的列依然是列，否则会变成index；其默认值为True\n",
    "\n",
    "pd变量的方法一般都会作用在这个变量本身上。\n",
    "\n",
    "np.diag，如果他的参数是矩阵，返回它的迹；如果是向量则构造一个以其参数为迹的矩阵。\n",
    "\n",
    "np.argsort 以下标的形式排序。返回值是下标。比如给定【1,3，5,2,4,6】返回【5,2,4,1,3,0】\n",
    "\n",
    "np.argwhere,根据条件返回下标"
   ]
  },
  {
   "cell_type": "code",
   "execution_count": null,
   "metadata": {},
   "outputs": [],
   "source": []
  }
 ],
 "metadata": {
  "kernelspec": {
   "display_name": "Python 3",
   "language": "python",
   "name": "python3"
  },
  "language_info": {
   "codemirror_mode": {
    "name": "ipython",
    "version": 3
   },
   "file_extension": ".py",
   "mimetype": "text/x-python",
   "name": "python",
   "nbconvert_exporter": "python",
   "pygments_lexer": "ipython3",
   "version": "3.7.3"
  }
 },
 "nbformat": 4,
 "nbformat_minor": 2
}
