{
 "cells": [
  {
   "cell_type": "markdown",
   "metadata": {},
   "source": [
    "1. 如何表示稀疏矩阵：这里的矩阵指的是二维矩阵，而且大多数元素是0，只有少数的为1或者正；平常的存储为所有矩阵的元素都要被存起来，现在只需要存储\n",
    "非零元素的位置以及非零元素的值，大致可以表示为G[s][t]=value,s和t为value在矩阵中的行和列数；使用字典的格式进行存储，具体的原理需要在日后再细看一下。\n",
    "我估计可以在今后不断的联系中熟悉起来"
   ]
  },
  {
   "cell_type": "markdown",
   "metadata": {},
   "source": [
    "2. 对于pandas中的dataframe数据格式，如果需要获取某个位置上的元素，可以这么做：如果知道元素所在的列名以及行数则 data['列名'].iloc[row]；如果知道\n",
    "行数和列数，那么可以直接 data.iloc[row,col]，如果是提取部分则 data.iloc[row0:row1,col0:col1]。当然还有其他的方式，但是这个足以使用了。在昨天的\n",
    "练习中因为取值的方式的错误导致没有往下进行。\n",
    "\n",
    "其实这个问题是在周五甚至周四就遇到了，但是直到现在才解决。原因就是因为自己在周末的时候5 6 7三天没有做相关的练习。今后不要，不要太绝对了。当遇到\n",
    "不可回避的问题时，可以晚上不做，但是第二天一定要补回来。一定要记住自己的目标，做一个真正的，顶尖的data scientist。"
   ]
  },
  {
   "cell_type": "markdown",
   "metadata": {},
   "source": [
    "关于网页的排序问题，从现在看来使用的应该是node-graph方法，这个东西可以联想到稀疏矩阵；而对网页的具体选择有涉及到概率问题，所以有可能会用矩阵与\n",
    "向量之间的计算问题。如果真是这样的话，那么最终网页排序问题就是矩阵计算问题。"
   ]
  },
  {
   "cell_type": "markdown",
   "metadata": {},
   "source": [
    "图和概率的结合过程让我想起了使用有限元或者差分方法计算某些物理问题，比如说热传导；在这个计算过程中也可以看做是1级markov-chain，就是说当前点的状态\n",
    "只跟前一点的状态有关，那么是否可以利用稀疏矩阵的方式来计算物理上的传导问题呢？之前的人是否有用过这样的方式呢？不过这个不太一样，这个过程是从稀疏\n",
    "到紧实的一个过程。因为随着时间的进行，前面的逐渐都变成了紧实的，只有后边的还是0.这个需要再好好想一下。"
   ]
  },
  {
   "cell_type": "markdown",
   "metadata": {},
   "source": [
    "网页排序和商品推荐有相似也有不同；商品推荐有你的喜好历史；是否跟主要原因和次要原因有点类似呢"
   ]
  },
  {
   "cell_type": "code",
   "execution_count": null,
   "metadata": {},
   "outputs": [],
   "source": []
  }
 ],
 "metadata": {
  "kernelspec": {
   "display_name": "Python 3",
   "language": "python",
   "name": "python3"
  },
  "language_info": {
   "codemirror_mode": {
    "name": "ipython",
    "version": 3
   },
   "file_extension": ".py",
   "mimetype": "text/x-python",
   "name": "python",
   "nbconvert_exporter": "python",
   "pygments_lexer": "ipython3",
   "version": "3.7.3"
  }
 },
 "nbformat": 4,
 "nbformat_minor": 2
}
