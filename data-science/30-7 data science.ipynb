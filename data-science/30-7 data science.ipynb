{
 "cells": [
  {
   "cell_type": "code",
   "execution_count": null,
   "metadata": {},
   "outputs": [],
   "source": [
    "使用pandas读入数据的时候，如果选择参数 index_col=0 那么就是把元数据中第1列的数据当做index； parse_dates=True表示把时间处理为dataframe格式\n",
    "\n",
    "df.resample(n).mean()，resample表示重新采样率，采样率就是物理样上采样率\n",
    "\n",
    "pandas.datereader 可以用来下载yahoo上的财经数据  import pandas.datareader.data as web   web.DataReader('APPL','yahoo',start,end)\n",
    "\n",
    "matplot...上 candlstick_ohlc  可以用来表示财经数据中 open high low close， 使用像蜡烛一样的形式"
   ]
  }
 ],
 "metadata": {
  "kernelspec": {
   "display_name": "Python 3",
   "language": "python",
   "name": "python3"
  },
  "language_info": {
   "codemirror_mode": {
    "name": "ipython",
    "version": 3
   },
   "file_extension": ".py",
   "mimetype": "text/x-python",
   "name": "python",
   "nbconvert_exporter": "python",
   "pygments_lexer": "ipython3",
   "version": "3.7.3"
  }
 },
 "nbformat": 4,
 "nbformat_minor": 2
}
