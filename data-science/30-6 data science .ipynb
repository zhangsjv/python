{
 "cells": [
  {
   "cell_type": "markdown",
   "metadata": {},
   "source": [
    "## pandas的一些应用"
   ]
  },
  {
   "cell_type": "markdown",
   "metadata": {},
   "source": [
    "如何把列表中的时间转换为pandas类型的时间，pandas类型的时间可以直接使用函数进行排序\n",
    "    *  df['date']=pd.to_datetime(df['date'])\n",
    "    *  有些数据并不是按时间顺序存储的，使用这种方式处理完之后，可以使用sort_values函数进行处理，得到按时间排序的数据\n",
    "    *  如果数据中含有时间列，那么可以把时间列作为index，会给今后的数据分析带来一定的便意。比如提取数据的时候，可以很方便的提取想要时间的那一行数据\n",
    "\n",
    "一种把数据平滑的手段，使用df[data].rolling(n).mean()\n",
    "    *  df[data]表示需要进行处理的数据\n",
    "    *  mean 表示对n个数据进行什么处理\n",
    "    *  n表示多少个数据进行平滑，比如n=3 前三个数据的平均值会出现在第3行；第2-4个数据的平均值会出现在第4行 以此类推；显然，前n-1个数据什么也没有\n",
    "    \n",
    "某一列可能包含很多相同的元素，可以使用df[data].unique()获得所有不同的元素。 比如可以单挑一类进行分析\n",
    "\n",
    "在构建df数据的时候，可能需要往里继续添加列。此时可以使用df.join(),这个有点类似list的append函数，不过需要df=df.join(data)。比如把不同球队的卖票数做一个表\n",
    "\n",
    "在对字符串进行处理的时候，可以使用f'{a}haha'实现 '{}haha'.format(a)的功能，这种方式更为简便\n",
    "\n",
    "df.groupby(data)包含data数据，即有多少个不同的data，还有每个data的group数据；可以使用get_group(data)获得某个data组的数据\n",
    "\n",
    "df.corr()分析数据之间的相关关系，默认使用pearson关系式\n",
    "\n",
    "可以使用pd.read_html()处理含有表格的网页，直接返回dataframe格式的数据\n",
    "\n",
    "map函数很好用，单独作为函数时，map(fun,args),当大量数据需要进行相同的函数运算的时候可以使用，args表示fun参数的集合或者列表\n",
    "在dataframe中，map函数可以用来对某一个列进行数据处理。此时map的参数可以是函数（map中函数的参数个数一般为1）还可以是字典，字典的内容是对此列进行替换的内容\n",
    "\n",
    "\n",
    "    \n"
   ]
  },
  {
   "cell_type": "code",
   "execution_count": null,
   "metadata": {},
   "outputs": [],
   "source": []
  }
 ],
 "metadata": {
  "kernelspec": {
   "display_name": "Python 3",
   "language": "python",
   "name": "python3"
  },
  "language_info": {
   "codemirror_mode": {
    "name": "ipython",
    "version": 3
   },
   "file_extension": ".py",
   "mimetype": "text/x-python",
   "name": "python",
   "nbconvert_exporter": "python",
   "pygments_lexer": "ipython3",
   "version": "3.7.3"
  }
 },
 "nbformat": 4,
 "nbformat_minor": 2
}
