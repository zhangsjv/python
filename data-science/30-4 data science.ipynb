{
 "cells": [
  {
   "cell_type": "markdown",
   "metadata": {},
   "source": [
    "## pandas的一些用法"
   ]
  },
  {
   "cell_type": "markdown",
   "metadata": {},
   "source": [
    "如何给dataframe格式的变量更改数据的列名\n",
    "data=data.rename(colunm={原名：现名})\n",
    "\n",
    "怎么合并两个数据，两个dataframe\n",
    "a=a.merge(b,how='left',left_on='a中列名',right_on='b中列名') 当left_on==right_on的row合并\n",
    "\n",
    "a.groupby([a,b]).sum()---sum()表示按[a,b]进行集合之后对其他列进行的运算，常用的是count()\n",
    "\n",
    "对pandas的使用太过于生疏了，很多方法都不知道，比如获取多行相同列的元素时需要用.values属性\n",
    "\n",
    "多用，多练，多想。\n",
    "\n",
    "比较有用的merge，groupby，重命名用的不太多，除非自己写算法处理数据时可能会用到.values，其他使用自带方法应该都不用。"
   ]
  },
  {
   "cell_type": "code",
   "execution_count": null,
   "metadata": {},
   "outputs": [],
   "source": []
  }
 ],
 "metadata": {
  "kernelspec": {
   "display_name": "Python 3",
   "language": "python",
   "name": "python3"
  },
  "language_info": {
   "codemirror_mode": {
    "name": "ipython",
    "version": 3
   },
   "file_extension": ".py",
   "mimetype": "text/x-python",
   "name": "python",
   "nbconvert_exporter": "python",
   "pygments_lexer": "ipython3",
   "version": "3.7.3"
  }
 },
 "nbformat": 4,
 "nbformat_minor": 2
}
