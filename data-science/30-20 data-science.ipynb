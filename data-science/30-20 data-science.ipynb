{
 "cells": [
  {
   "cell_type": "markdown",
   "metadata": {},
   "source": [
    "## 怎么压缩图片"
   ]
  },
  {
   "cell_type": "markdown",
   "metadata": {},
   "source": [
    "把图片转换成一个矩阵，矩阵可以用$A\\approx U_k\\Sigma_kV^T_k$"
   ]
  },
  {
   "cell_type": "markdown",
   "metadata": {},
   "source": [
    "其中A为一个$m\\times n$的矩阵，$ U,\\Sigma, V$ 分别为$m\\times s, s\\times s, s\\times n$ 的矩阵，其中s为m,n中最小的值即 $s=min(m,n)$"
   ]
  },
  {
   "cell_type": "markdown",
   "metadata": {},
   "source": [
    "$\\Sigma$是一个奇异矩阵，只有对角线上有值，其余都是0，k表示前k个值。U的前k列，$\\Sigma$的前k列前k列，$V^T_k$的前k行"
   ]
  },
  {
   "cell_type": "markdown",
   "metadata": {},
   "source": [
    "u,sigma,vt可以用np.linalg.svd()进行计算，详细可以[参考](https://docs.scipy.org/doc/numpy/reference/generated/numpy.linalg.svd.html),需要注意的是其参数 full_matrices的使用,此处使用full_matrices=False"
   ]
  },
  {
   "cell_type": "markdown",
   "metadata": {},
   "source": [
    "这里的结果跟昨天自己预想的不太一样，需要在看看关于压缩之后更好观察区别方面的东西"
   ]
  },
  {
   "cell_type": "code",
   "execution_count": null,
   "metadata": {},
   "outputs": [],
   "source": []
  }
 ],
 "metadata": {
  "kernelspec": {
   "display_name": "Python 3",
   "language": "python",
   "name": "python3"
  },
  "language_info": {
   "codemirror_mode": {
    "name": "ipython",
    "version": 3
   },
   "file_extension": ".py",
   "mimetype": "text/x-python",
   "name": "python",
   "nbconvert_exporter": "python",
   "pygments_lexer": "ipython3",
   "version": "3.7.3"
  }
 },
 "nbformat": 4,
 "nbformat_minor": 2
}
