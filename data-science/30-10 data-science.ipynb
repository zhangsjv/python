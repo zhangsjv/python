{
 "cells": [
  {
   "cell_type": "markdown",
   "metadata": {},
   "source": [
    "可以用程序实现一些矩阵的运算；在进行计算机计算之前，现实使用矩阵理论或者代数理论对要进行计算的公式进行了化简，之后对计算机的计算有了很大的帮助\n",
    "\n",
    "而且还使用了一些算法来验证自己的程序是否正确，比如使用微扰法，如果输入的值有一个很小的变化会对输出产生很大的影响，那么这个系统是很敏感的，可能\n",
    "只对某些特定的参数有用，那么就需要进一步的改进。\n",
    "\n",
    "在真正动手之前，一定要现在理论上论证一下，尝试着化简一下，这样可以节省大量的资源；\n",
    "一定要check，看你的结果是特例还是普遍现象，如果是特例的话，那么用处会比较局限，看是否有更好的，兼容性更好的方式。\n",
    "\n",
    "对于怎么加微扰当时还是有点小困难，不过想通之后一切都很简单了；之前一直在想怎么用加减法来处理一下，搞了半天，不好使；之后一想我可以得到0-1，需要\n",
    "得到0-e，那用乘法不久可以了吗；再之后是需要得到-e--e，还是只能得到0-1，因为得到的0-e是随机的，那么可以用-e--0,0-e，这两个相加得到的肯定在-e--e之间"
   ]
  },
  {
   "cell_type": "code",
   "execution_count": null,
   "metadata": {},
   "outputs": [],
   "source": []
  }
 ],
 "metadata": {
  "kernelspec": {
   "display_name": "Python 3",
   "language": "python",
   "name": "python3"
  },
  "language_info": {
   "codemirror_mode": {
    "name": "ipython",
    "version": 3
   },
   "file_extension": ".py",
   "mimetype": "text/x-python",
   "name": "python",
   "nbconvert_exporter": "python",
   "pygments_lexer": "ipython3",
   "version": "3.7.3"
  }
 },
 "nbformat": 4,
 "nbformat_minor": 2
}
