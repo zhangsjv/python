{
 "cells": [
  {
   "cell_type": "markdown",
   "metadata": {},
   "source": [
    "更熟悉了pandas中的groupby的用法：groupby的数据至少需要两列，groupby的返回值是一个比原数据少一列的数据，因为groupby的参数会被当做index；如果\n",
    "groupby的下一步是merge那么需要把groupby之后的index也换做列，可以用 group.reset_index(inplace=True)\n",
    "\n",
    "如何创建一个稀疏矩阵，可以利用for循环；更简单是使用scipy.sparse.coo_matrix((data,row,col),shape=(n,n))\n",
    "\n",
    "记住 x=P.T.dot(x) 其中x的格式为np.array(n)"
   ]
  }
 ],
 "metadata": {
  "kernelspec": {
   "display_name": "Python 3",
   "language": "python",
   "name": "python3"
  },
  "language_info": {
   "codemirror_mode": {
    "name": "ipython",
    "version": 3
   },
   "file_extension": ".py",
   "mimetype": "text/x-python",
   "name": "python",
   "nbconvert_exporter": "python",
   "pygments_lexer": "ipython3",
   "version": "3.7.3"
  }
 },
 "nbformat": 4,
 "nbformat_minor": 2
}
