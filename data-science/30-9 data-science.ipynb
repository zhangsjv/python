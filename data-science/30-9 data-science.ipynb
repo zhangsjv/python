{
 "cells": [
  {
   "cell_type": "markdown",
   "metadata": {},
   "source": [
    "今天比较大的收获就是，怎么把线性代数和矩阵联合起来，怎么把矩阵与数据联系起来。\n",
    "\n",
    "数据时多维的，矩阵也是多维的，很自然就能联系起来；线性代数是多变量的组合，矩阵与向量的乘积也是多变量的组合，因此也能联系起来。\n",
    "\n",
    "我们最终想要的是解决问题，就今天而言，是找出合适的变量参数，就矩阵来说，有一个结果向量，有一个矩阵，有一个的待求向量，怎么去解决问题，找到一\n",
    "合适的待求向量使其与矩阵的乘积减去结果向量得到的值最小；这个就很容易想到线性代数中的一阶导数为0，所以又回到了线性代数，使用线性代数得到最佳的\n",
    "结果之后，在使用向量的方式写成算法。最后才算完。\n",
    "\n",
    "不要在纠结在具体的知识上，开始重视知识直接的联系，它能带来什么。勇于开始，加油。"
   ]
  },
  {
   "cell_type": "code",
   "execution_count": null,
   "metadata": {},
   "outputs": [],
   "source": []
  }
 ],
 "metadata": {
  "kernelspec": {
   "display_name": "Python 3",
   "language": "python",
   "name": "python3"
  },
  "language_info": {
   "codemirror_mode": {
    "name": "ipython",
    "version": 3
   },
   "file_extension": ".py",
   "mimetype": "text/x-python",
   "name": "python",
   "nbconvert_exporter": "python",
   "pygments_lexer": "ipython3",
   "version": "3.7.3"
  }
 },
 "nbformat": 4,
 "nbformat_minor": 2
}
