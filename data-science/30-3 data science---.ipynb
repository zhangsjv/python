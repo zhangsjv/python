{
 "cells": [
  {
   "cell_type": "markdown",
   "metadata": {},
   "source": [
    "## numpy的一些用法"
   ]
  },
  {
   "cell_type": "markdown",
   "metadata": {},
   "source": [
    "如何打印python中某个包的版本：np.__version__. 版本是一个基本属性，所以可能设置为了初始属性了\n",
    "\n",
    "如何获得一个数组的维度：array.ndim\n",
    "\n",
    "如何获得一个数组的元素个数：array.size\n",
    "\n",
    "如何反转一个向量：vectorB=vectorA[::-1], 这里-1表示反向；\n",
    "\n",
    "使用array.itemsize 获得数组中每个元素所占的内存大小"
   ]
  },
  {
   "cell_type": "markdown",
   "metadata": {},
   "source": [
    "在这里 反向会被用到的可能性很大"
   ]
  },
  {
   "cell_type": "code",
   "execution_count": null,
   "metadata": {},
   "outputs": [],
   "source": []
  }
 ],
 "metadata": {
  "kernelspec": {
   "display_name": "Python 3",
   "language": "python",
   "name": "python3"
  },
  "language_info": {
   "codemirror_mode": {
    "name": "ipython",
    "version": 3
   },
   "file_extension": ".py",
   "mimetype": "text/x-python",
   "name": "python",
   "nbconvert_exporter": "python",
   "pygments_lexer": "ipython3",
   "version": "3.7.3"
  }
 },
 "nbformat": 4,
 "nbformat_minor": 2
}
