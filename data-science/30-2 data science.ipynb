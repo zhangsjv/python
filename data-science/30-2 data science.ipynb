{
 "cells": [
  {
   "cell_type": "markdown",
   "metadata": {},
   "source": [
    "## 主要是如何把在t时刻i位置处的概率用graph来表示出来。"
   ]
  },
  {
   "cell_type": "markdown",
   "metadata": {},
   "source": [
    "条件概率：在t时刻位于j位置的概率依赖于在t-1时刻所在位置的概率。假设在走一条迷宫，你下一步要选择的方向肯定依赖于你现在所在的位置，同理你之所以\n",
    "在现在的位置上也跟你上个位置有关。比如现在在位置A处，选择去B处的概率为P(A->B)=Pr(B|A);你处在A的概率x(A),处在B的概率为x(B)，那么x(B)=P(A->B)*x(A)\n",
    "当然可能趋向B的道路并不是单一的，那么就需要把所有能通向B的进行加和处理。\n",
    "\n",
    "课程中的是使用了数学公式，然后把数学公式使用矩阵表示，然后引出稀疏矩阵。\n",
    "不过，因为之前有过graph向matrix转换的经历，所以对于直接使用图来表示更方便理解"
   ]
  },
  {
   "cell_type": "markdown",
   "metadata": {},
   "source": [
    "怎么存储稀疏矩阵。一种方式是存储矩阵中元素的行、列、值，这种方式便于理解，就像是记录棋盘上棋子的位置，不需要把棋盘上所有的格都记录下来，只需要\n",
    "记下有棋子的格的位置就可以了，比如第1行第3列，第2行第4列等等。\n",
    "\n",
    "这种方法并不能最省空间，因为在同一行可能有很多列都有棋子，那么同一行就会出现很多次，比如第1行第2列，第1行第5列，第1行第6列等。这样就引出了另一种\n",
    "存储的方式，使用一行记录矩阵中元素的值，使用另一行记录每一行的列数，在使用一行记录上述两行中每更换一行（矩阵中的行）时在上述两行中的index。\n",
    "最后一行中每个元素值就是上述两行的索引。比如[0,3,5...],表示上述两行从第0个到第三个都是矩阵中第一行的元素，从第3个到第5个都是矩阵中第二行的元素。"
   ]
  },
  {
   "cell_type": "markdown",
   "metadata": {},
   "source": [
    "当然最后的目的还是要计算矩阵与向量的乘积。使用这两种方式记录的稀疏矩阵该怎么与向量进行乘积运算呢？ 只要知道矩阵与向量的计算本质上就是矩阵的每一行\n",
    "跟向量的每个元素相乘然后相加就可以了。然后在去想两种方式中，怎么表示矩阵的行，怎么表示矩阵的列（与向量的位置相对应），怎么表示矩阵的值，然后进行\n",
    "循环计算就可以了。"
   ]
  },
  {
   "cell_type": "code",
   "execution_count": null,
   "metadata": {},
   "outputs": [],
   "source": []
  }
 ],
 "metadata": {
  "kernelspec": {
   "display_name": "Python 3",
   "language": "python",
   "name": "python3"
  },
  "language_info": {
   "codemirror_mode": {
    "name": "ipython",
    "version": 3
   },
   "file_extension": ".py",
   "mimetype": "text/x-python",
   "name": "python",
   "nbconvert_exporter": "python",
   "pygments_lexer": "ipython3",
   "version": "3.7.3"
  }
 },
 "nbformat": 4,
 "nbformat_minor": 2
}
